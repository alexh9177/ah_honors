{
 "cells": [
  {
   "cell_type": "code",
   "execution_count": 16,
   "metadata": {},
   "outputs": [],
   "source": [
    "# defines list isoformList\n",
    "# reads in quant.sf as quantfile, removes header\n",
    "# appends each line as list to isoformList\n",
    "isoformList = []\n",
    "with open('quant.sf') as quantFile:\n",
    "    next(quantFile)\n",
    "    for line in quantFile:\n",
    "        isoformList.append(line.split())"
   ]
  },
  {
   "cell_type": "code",
   "execution_count": 17,
   "metadata": {},
   "outputs": [],
   "source": [
    "# imports blastn uniprot text file\n",
    "# replaces line with spaces to split\n",
    "# selects stringtie name, ensembl transcript, and protein name as list\n",
    "# appends list to list\n",
    "blastnList = []\n",
    "with open('myoluc.ST.mix.uniprot.txt') as blastFile:\n",
    "    for line in blastFile:\n",
    "        a = line.replace(\"|\", \" \")\n",
    "        tempList = a.split()\n",
    "        blastnList.append([tempList[0],tempList[1], tempList[6]])"
   ]
  },
  {
   "cell_type": "code",
   "execution_count": 18,
   "metadata": {},
   "outputs": [],
   "source": [
    "# blast list contains multiple proteins\n",
    "# sort only unique blast genes to list \n",
    "uniqueBlastList = []\n",
    "for i in blastnList:\n",
    "    if i[0] not in uniqueBlastList:\n",
    "        uniqueBlastList.append(i)"
   ]
  },
  {
   "cell_type": "code",
   "execution_count": 19,
   "metadata": {},
   "outputs": [],
   "source": [
    "# sorts through unique blastn list\n",
    "# checks if stringtie IDs match\n",
    "# if so, removes stringtie id from isoformList\n",
    "# then merges list and appends to dataList\n",
    "dataList = []\n",
    "for i in uniqueBlastList:\n",
    "    for j in isoformList:\n",
    "        if i[0] == j[0]:\n",
    "            j.pop(0)\n",
    "            x = i + j\n",
    "            dataList.append(x)"
   ]
  },
  {
   "cell_type": "code",
   "execution_count": 42,
   "metadata": {},
   "outputs": [
    {
     "name": "stdout",
     "output_type": "stream",
     "text": [
      "['STRG.10285.1', 'ENST00000392730.2', 'RPL13P12', '242', '16.957', '21647.923264', '945.000']\n",
      "['STRG.14622.1', 'ENST00000436812.1', 'IGFBP2', '228', '13.360', '18144.278059', '624.000']\n",
      "['STRG.4183.1', 'ENST00000323496.5', 'TMSB4XP4', '461', '211.000', '13480.094138', '7322.000']\n",
      "['STRG.8063.1', 'ENST00000443197.5', 'CALD1', '219', '11.606', '13421.266283', '401.000']\n",
      "['STRG.18655.1', 'ENST00000681842.1', 'ACTG1', '216', '11.099', '10885.106801', '311.000']\n",
      "['STRG.4183.2', 'ENST00000380636.1', 'TMSB4X', '249', '19.269', '10603.944244', '526.000']\n",
      "['STRG.4347.1', 'ENST00000323496.5', 'TMSB4XP4', '649', '399.000', '9734.851497', '9999.000']\n",
      "['STRG.4226.1', 'ENST00000556230.2', 'RPS29', '242', '16.957', '9644.207084', '421.000']\n",
      "['STRG.1033.1', 'ENST00000675515.1', 'ACTB', '230', '13.802', '7345.724896', '261.000']\n",
      "['STRG.5389.2', 'ENST00000368714.1', 'S100A4', '306', '56.785', '7025.553123', '1027.000']\n",
      "['STRG.8413.1', 'ENST00000678703.1', 'EEF1A1', '226', '12.937', '6996.138189', '233.000']\n",
      "['STRG.4959.1', 'ENST00000323496.5', 'TMSB4XP4', '398', '148.000', '5889.884688', '2244.000']\n",
      "['STRG.13897.1', 'ENST00000556230.2', 'RPS29', '320', '70.188', '5468.176642', '988.000']\n",
      "['STRG.18503.2', 'ENST00000556230.2', 'RPS29', '341', '91.012', '4071.870039', '954.000']\n",
      "['STRG.15091.1', 'ENST00000322028.5', 'POLR2L', '204', '9.377', '3894.099035', '94.000']\n",
      "['STRG.4311.1', 'ENST00000533498.1', 'RPL38', '312', '62.441', '3888.264432', '625.000']\n",
      "['STRG.17769.1', 'ENST00000260379.11', 'RPLP1', '452', '202.000', '3586.518889', '1865.000']\n",
      "['STRG.4292.1', 'ENST00000371437.5', 'NDUFA1', '213', '10.625', '3436.884119', '94.000']\n",
      "['STRG.16448.1', 'ENST00000546591.6', 'RPL41', '552', '302.000', '3412.525962', '2653.000']\n",
      "['STRG.16448.2', 'ENST00000546591.6', 'RPL41', '559', '309.000', '3282.419240', '2611.000']\n"
     ]
    }
   ],
   "source": [
    "# test conditions\n",
    "# print(dataList)\n",
    "# sort by numreads (highest at top)\n",
    "# display top 20 proteins w/highest numreads\n",
    "\n",
    "#sortedList = sorted(dataList, key=lambda a:a[6], reverse=True)\n",
    "\n",
    "dataList.sort(key=lambda x:float(x[5]), reverse=True)\n",
    "\n",
    "for i in range(20):\n",
    "    print(dataList[i])"
   ]
  },
  {
   "cell_type": "code",
   "execution_count": 45,
   "metadata": {},
   "outputs": [],
   "source": [
    "# read in list of human immune genes\n",
    "humanImmuneGeneList = []\n",
    "with open('human_immune_genes.txt') as humanFile:\n",
    "    for line in humanFile:\n",
    "        humanImmuneGeneList.append(line.strip('\\n'))\n",
    "# print(humanImmuneGeneList)"
   ]
  },
  {
   "cell_type": "code",
   "execution_count": 60,
   "metadata": {},
   "outputs": [],
   "source": [
    "# removes the period from the blastn encode transcript to search against \n",
    "# list of human immune transcripts from andrea\n",
    "for i in dataList:\n",
    "    a = i[1].split(\".\")\n",
    "    b = a[0]\n",
    "    i[1] = b\n",
    "# print(dataList)"
   ]
  },
  {
   "cell_type": "code",
   "execution_count": 89,
   "metadata": {},
   "outputs": [],
   "source": [
    "# matches transcripts from my data to transcripts from andrea's list\n",
    "# appends to new file\n",
    "matchImmuneGeneList = []\n",
    "for i in dataList:\n",
    "    for j in humanImmuneGeneList:\n",
    "        if i[1] == j:\n",
    "            matchImmuneGeneList.append(i)"
   ]
  },
  {
   "cell_type": "code",
   "execution_count": 94,
   "metadata": {},
   "outputs": [],
   "source": [
    "# search function, sorts genes by TMP highest to lowest\n",
    "matchImmuneGeneList.sort(key=lambda x:float(x[5]), reverse=True)"
   ]
  },
  {
   "cell_type": "code",
   "execution_count": 97,
   "metadata": {},
   "outputs": [
    {
     "name": "stdout",
     "output_type": "stream",
     "text": [
      "[['PPIA', '2774.588454'], ['PPIA', '2033.752586'], ['LGALS1', '1818.923717'], ['HSPA8', '1702.469237'], ['FAU', '1339.516158'], ['S100A11', '1243.660955'], ['PPIA', '1160.683886'], ['RPS19', '1114.196106'], ['FAU', '1009.456831'], ['FAU', '938.035598'], ['RPL30', '933.400725'], ['FAU', '919.385622'], ['B2M', '823.684832'], ['FTH1', '782.030152'], ['EEF1A1', '752.308838']]\n"
     ]
    }
   ],
   "source": [
    "# sorting function, gives gene name and corresponding TPM \n",
    "tempList =[]\n",
    "for i in range(15):\n",
    "    if matchImmuneGeneList[i][2] not in tempList:\n",
    "        tempList.append([matchImmuneGeneList[i][2], matchImmuneGeneList[i][5]])\n",
    "print(tempList)"
   ]
  }
 ],
 "metadata": {
  "kernelspec": {
   "display_name": "Python 3.9.13 64-bit",
   "language": "python",
   "name": "python3"
  },
  "language_info": {
   "codemirror_mode": {
    "name": "ipython",
    "version": 3
   },
   "file_extension": ".py",
   "mimetype": "text/x-python",
   "name": "python",
   "nbconvert_exporter": "python",
   "pygments_lexer": "ipython3",
   "version": "3.9.13"
  },
  "orig_nbformat": 4,
  "vscode": {
   "interpreter": {
    "hash": "b0fa6594d8f4cbf19f97940f81e996739fb7646882a419484c72d19e05852a7e"
   }
  }
 },
 "nbformat": 4,
 "nbformat_minor": 2
}
